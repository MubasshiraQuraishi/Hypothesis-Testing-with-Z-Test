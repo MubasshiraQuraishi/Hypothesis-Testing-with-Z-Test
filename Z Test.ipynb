{
 "cells": [
  {
   "cell_type": "code",
   "execution_count": 3,
   "id": "888d6bc3",
   "metadata": {},
   "outputs": [],
   "source": [
    "import numpy as np\n",
    "import pandas as pd\n",
    "import matplotlib.pyplot as plt\n",
    "import seaborn as sns\n",
    "import warnings\n",
    "warnings.filterwarnings(\"ignore\")"
   ]
  },
  {
   "cell_type": "code",
   "execution_count": 7,
   "id": "b0672139",
   "metadata": {},
   "outputs": [
    {
     "data": {
      "text/html": [
       "<div>\n",
       "<style scoped>\n",
       "    .dataframe tbody tr th:only-of-type {\n",
       "        vertical-align: middle;\n",
       "    }\n",
       "\n",
       "    .dataframe tbody tr th {\n",
       "        vertical-align: top;\n",
       "    }\n",
       "\n",
       "    .dataframe thead th {\n",
       "        text-align: right;\n",
       "    }\n",
       "</style>\n",
       "<table border=\"1\" class=\"dataframe\">\n",
       "  <thead>\n",
       "    <tr style=\"text-align: right;\">\n",
       "      <th></th>\n",
       "      <th>StudentID</th>\n",
       "      <th>Age</th>\n",
       "      <th>Gender</th>\n",
       "      <th>Ethnicity</th>\n",
       "      <th>ParentalEducation</th>\n",
       "      <th>StudyTimeWeekly</th>\n",
       "      <th>Absences</th>\n",
       "      <th>Tutoring</th>\n",
       "      <th>ParentalSupport</th>\n",
       "      <th>Extracurricular</th>\n",
       "      <th>Sports</th>\n",
       "      <th>Music</th>\n",
       "      <th>Volunteering</th>\n",
       "      <th>GPA</th>\n",
       "      <th>GradeClass</th>\n",
       "    </tr>\n",
       "  </thead>\n",
       "  <tbody>\n",
       "    <tr>\n",
       "      <th>0</th>\n",
       "      <td>1001</td>\n",
       "      <td>17</td>\n",
       "      <td>1</td>\n",
       "      <td>0</td>\n",
       "      <td>2</td>\n",
       "      <td>19.833723</td>\n",
       "      <td>7</td>\n",
       "      <td>1</td>\n",
       "      <td>2</td>\n",
       "      <td>0</td>\n",
       "      <td>0</td>\n",
       "      <td>1</td>\n",
       "      <td>0</td>\n",
       "      <td>2.929196</td>\n",
       "      <td>2.0</td>\n",
       "    </tr>\n",
       "    <tr>\n",
       "      <th>1</th>\n",
       "      <td>1002</td>\n",
       "      <td>18</td>\n",
       "      <td>0</td>\n",
       "      <td>0</td>\n",
       "      <td>1</td>\n",
       "      <td>15.408756</td>\n",
       "      <td>0</td>\n",
       "      <td>0</td>\n",
       "      <td>1</td>\n",
       "      <td>0</td>\n",
       "      <td>0</td>\n",
       "      <td>0</td>\n",
       "      <td>0</td>\n",
       "      <td>3.042915</td>\n",
       "      <td>1.0</td>\n",
       "    </tr>\n",
       "    <tr>\n",
       "      <th>2</th>\n",
       "      <td>1003</td>\n",
       "      <td>15</td>\n",
       "      <td>0</td>\n",
       "      <td>2</td>\n",
       "      <td>3</td>\n",
       "      <td>4.210570</td>\n",
       "      <td>26</td>\n",
       "      <td>0</td>\n",
       "      <td>2</td>\n",
       "      <td>0</td>\n",
       "      <td>0</td>\n",
       "      <td>0</td>\n",
       "      <td>0</td>\n",
       "      <td>0.112602</td>\n",
       "      <td>4.0</td>\n",
       "    </tr>\n",
       "  </tbody>\n",
       "</table>\n",
       "</div>"
      ],
      "text/plain": [
       "   StudentID  Age  Gender  Ethnicity  ParentalEducation  StudyTimeWeekly  \\\n",
       "0       1001   17       1          0                  2        19.833723   \n",
       "1       1002   18       0          0                  1        15.408756   \n",
       "2       1003   15       0          2                  3         4.210570   \n",
       "\n",
       "   Absences  Tutoring  ParentalSupport  Extracurricular  Sports  Music  \\\n",
       "0         7         1                2                0       0      1   \n",
       "1         0         0                1                0       0      0   \n",
       "2        26         0                2                0       0      0   \n",
       "\n",
       "   Volunteering       GPA  GradeClass  \n",
       "0             0  2.929196         2.0  \n",
       "1             0  3.042915         1.0  \n",
       "2             0  0.112602         4.0  "
      ]
     },
     "execution_count": 7,
     "metadata": {},
     "output_type": "execute_result"
    }
   ],
   "source": [
    "df = pd.read_csv('C:\\\\Users\\\\Mubasshira\\\\Downloads\\\\Student_performance_data _.csv')\n",
    "df.head(3)"
   ]
  },
  {
   "cell_type": "markdown",
   "id": "56319d1d",
   "metadata": {},
   "source": [
    "# One-Sample Z-Test"
   ]
  },
  {
   "cell_type": "code",
   "execution_count": 12,
   "id": "48b7e9ae",
   "metadata": {},
   "outputs": [
    {
     "name": "stdout",
     "output_type": "stream",
     "text": [
      "Z stat : -58.45597371325348\n",
      "P value : 0.0\n",
      "Average GPA is significantly different from 3.0\n",
      "Average GPA is 1.9061863027265407\n"
     ]
    }
   ],
   "source": [
    "#Is the average GPA significantly different from 3.0?\n",
    "#H₀: μ = 3.0\n",
    "#H₁: μ ≠ 3.0\n",
    "\n",
    "from statsmodels.stats.weightstats import ztest\n",
    "zstat, pval = ztest(df['GPA'], value=3.0)\n",
    "print(f\"Z stat : {zstat}\")\n",
    "print(f\"P value : {pval}\")\n",
    "\n",
    "if pval < 0.05:\n",
    "    print(\"Average GPA is significantly different from 3.0\")\n",
    "    average_gpa = np.mean(df['GPA'])\n",
    "    print(f\"Average GPA is {average_gpa}\")\n",
    "else:\n",
    "    print(\"Yes, Average GPA is exactly 3.0\")"
   ]
  },
  {
   "cell_type": "code",
   "execution_count": 29,
   "id": "006de6f2",
   "metadata": {},
   "outputs": [
    {
     "name": "stdout",
     "output_type": "stream",
     "text": [
      "Z stat : -2.00155857494018\n",
      "P value : 0.022666114031068583\n",
      "Students are studying less than 10 hours\n",
      "Average Study Time is 9.771991919431738\n"
     ]
    }
   ],
   "source": [
    "#On average, students are expected to study at least 10 hours a week. Is this true?\n",
    "#H₀: μ ≥ 10\n",
    "#H₁: μ < 10\n",
    "\n",
    "zstat, pval = ztest(round(df['StudyTimeWeekly'],0), value=10, alternative=\"smaller\")\n",
    "print(f\"Z stat : {zstat}\")\n",
    "print(f\"P value : {pval}\")\n",
    "\n",
    "if pval < 0.05:\n",
    "    print(\"Students are studying less than 10 hours\")\n",
    "    average_studytime = np.mean(df['StudyTimeWeekly'])\n",
    "    print(f\"Average Study Time is {average_studytime}\")\n",
    "else:\n",
    "    print(\"Yes, Students are expected to study at least 10 hours a week\")"
   ]
  },
  {
   "cell_type": "code",
   "execution_count": 28,
   "id": "dac9a0b3",
   "metadata": {},
   "outputs": [
    {
     "name": "stdout",
     "output_type": "stream",
     "text": [
      "Z stat : 55.111365897797334\n",
      "P value : 0.0\n",
      "The average number of absences is significantly higher than 5\n",
      "Average Absences: 14.54\n"
     ]
    }
   ],
   "source": [
    "#The school sets a target of no more than 5 absences per student. Is the average higher?\n",
    "#H₀: μ ≤ 5\n",
    "#H₁: μ > 5\n",
    "\n",
    "zstat, pval = ztest(df['Absences'], value=5, alternative='larger')\n",
    "print(f\"Z stat : {zstat}\")\n",
    "print(f\"P value : {pval}\")\n",
    "\n",
    "if pval < 0.05:\n",
    "    print(\"The average number of absences is significantly higher than 5\")\n",
    "    avg_absences = np.mean(df['Absences'])\n",
    "    print(f\"Average Absences: {avg_absences:.2f}\")\n",
    "else:\n",
    "    print(\"The average number of absences is NOT significantly higher than 5\")\n",
    "    avg_absences = np.mean(df['Absences'])\n",
    "    print(f\"Average Absences: {avg_absences:.2f}\")"
   ]
  },
  {
   "cell_type": "markdown",
   "id": "1fd043d3",
   "metadata": {},
   "source": [
    "# Two-Sample Z-Test"
   ]
  },
  {
   "cell_type": "code",
   "execution_count": 18,
   "id": "3cbc8ace",
   "metadata": {},
   "outputs": [
    {
     "name": "stdout",
     "output_type": "stream",
     "text": [
      "Z stat : 0.6531957576950806\n",
      "P value : 0.5136300848367689\n",
      "Yes, Average GPA is exactly same for Male and Female students\n",
      "Average Male Students GPA is 1.9186788948802054\n",
      "Average Female Students GPA is 1.8942253102389894\n"
     ]
    }
   ],
   "source": [
    "#Do male and female students have the same average GPA?\n",
    "#H₀: μ₁ = μ₂\n",
    "#H₁: μ₁ ≠ μ₂\n",
    "\n",
    "ms = df[df['Gender'] == 0][\"GPA\"]\n",
    "fs = df[df['Gender'] == 1][\"GPA\"]\n",
    "\n",
    "zstat, pval = ztest(x1 = ms, x2 = fs, value= 0)\n",
    "print(f\"Z stat : {zstat}\")\n",
    "print(f\"P value : {pval}\")\n",
    "\n",
    "if pval < 0.05:\n",
    "    print(\"Male and Female students have different average GPA\")\n",
    "else:\n",
    "    print(\"Yes, Average GPA is exactly same for Male and Female students\")\n",
    "    \n",
    "male_average = np.mean(df[df['Gender'] == 0][\"GPA\"])\n",
    "female_average = np.mean(df[df['Gender'] == 1][\"GPA\"])\n",
    "    \n",
    "print(f\"Average Male Students GPA is {male_average}\")\n",
    "print(f\"Average Female Students GPA is {female_average}\")"
   ]
  },
  {
   "cell_type": "code",
   "execution_count": 20,
   "id": "746dafd8",
   "metadata": {},
   "outputs": [
    {
     "name": "stdout",
     "output_type": "stream",
     "text": [
      "Z stat : -7.170424050973337\n",
      "P value : 7.476581508315615e-13\n",
      "Students who receive tutoring have higher average GPA\n",
      "Tutored Students average GPA is 2.1083247273414276\n",
      "Untutored Students average GPA is 1.818967987856802\n"
     ]
    }
   ],
   "source": [
    "#Do students who receive tutoring have higher average GPA than those who don't?\n",
    "#H₀: μ₁ ≤ μ₂\n",
    "#H₁: μ₁ > μ₂\n",
    "\n",
    "no_tutor = df[df['Tutoring'] == 0][\"GPA\"]\n",
    "tutor = df[df['Tutoring'] == 1][\"GPA\"]\n",
    "\n",
    "zstat, pval = ztest(x1 = no_tutor, x2 = tutor, value= 0)\n",
    "print(f\"Z stat : {zstat}\")\n",
    "print(f\"P value : {pval}\")\n",
    "\n",
    "if pval < 0.05:\n",
    "    print(\"Students who receive tutoring have higher average GPA\")\n",
    "else:\n",
    "    print(\"Students with tutoring have less than or equal average GPA compared to students without tutoring\")\n",
    "    \n",
    "st = np.mean(df[df['Tutoring'] == 1][\"GPA\"])\n",
    "nst = np.mean(df[df['Tutoring'] == 0][\"GPA\"])\n",
    "    \n",
    "print(f\"Tutored Students average GPA is {st}\")\n",
    "print(f\"Untutored Students average GPA is {nst}\")"
   ]
  },
  {
   "cell_type": "code",
   "execution_count": 30,
   "id": "88179c68",
   "metadata": {},
   "outputs": [
    {
     "name": "stdout",
     "output_type": "stream",
     "text": [
      "Z stat : 1.9068749597512826\n",
      "P value : 0.9717316092680018\n",
      "Students with 'High' or 'Very High' parental support study more hours\n",
      "High Support Avg Study Time: 10.04 hours\n",
      "Low Support Avg Study Time: 9.59 hours\n"
     ]
    }
   ],
   "source": [
    "#Do students with 'High' or 'Very High' parental support study more hours weekly than those with lower support?\n",
    "#H₀: μ₁ ≤ μ₂\n",
    "#H₁: μ₁ > μ₂\n",
    "\n",
    "highsupport = df[df['ParentalSupport'] >= 3][\"StudyTimeWeekly\"]\n",
    "lowsupport = df[df['ParentalSupport'] < 3][\"StudyTimeWeekly\"]\n",
    "\n",
    "zstat, pval = ztest(x1 = highsupport, x2 = lowsupport, value= 0, alternative='smaller')\n",
    "print(f\"Z stat : {zstat}\")\n",
    "print(f\"P value : {pval}\")\n",
    "\n",
    "if pval < 0.05:\n",
    "    print(\"Students with 'High' or 'Very High' parent support study less than or equal weekly hours compared to other students\")\n",
    "else:\n",
    "    print(\"Students with 'High' or 'Very High' parental support study more hours\")\n",
    "    \n",
    "hs = np.mean(highsupport)\n",
    "ls = np.mean(lowsupport)\n",
    "\n",
    "print(f\"High Support Avg Study Time: {hs:.2f} hours\")\n",
    "print(f\"Low Support Avg Study Time: {ls:.2f} hours\")"
   ]
  },
  {
   "cell_type": "markdown",
   "id": "f35c8fcd",
   "metadata": {},
   "source": [
    "# One-Sample Z-Proportion Test"
   ]
  },
  {
   "cell_type": "code",
   "execution_count": 42,
   "id": "cbd3a5ac",
   "metadata": {},
   "outputs": [
    {
     "name": "stdout",
     "output_type": "stream",
     "text": [
      "Z stat : 1.0634703884638677\n",
      "P value : 0.28756868687945203\n",
      "50% Students are female\n",
      "Female students % count is 51.08695652173913\n",
      "Male students % count is 48.91304347826087\n"
     ]
    }
   ],
   "source": [
    "from statsmodels.stats.proportion import proportions_ztest\n",
    "#It’s believed that 50% of the students are female. Is the actual proportion different?\n",
    "#H₀: p = 0.50\n",
    "#H₁: p ≠ 0.50\n",
    "\n",
    "success = (df['Gender'] == 1).sum()\n",
    "total = len(df)\n",
    "zstat, pval = proportions_ztest(success, total, value=0.50, alternative='two-sided')\n",
    "\n",
    "print(f\"Z stat : {zstat}\")\n",
    "print(f\"P value : {pval}\")\n",
    "\n",
    "if pval < 0.05:\n",
    "    print(\"50% students are not female\")\n",
    "else:\n",
    "    print(\"50% Students are female\")\n",
    "    \n",
    "male_s = (df['Gender'] == 0).sum()\n",
    "print(f\"Female students % count is {success/total * 100}\")\n",
    "print(f\"Male students % count is {male_s/total * 100}\")"
   ]
  },
  {
   "cell_type": "code",
   "execution_count": 41,
   "id": "6bbee114",
   "metadata": {},
   "outputs": [
    {
     "name": "stdout",
     "output_type": "stream",
     "text": [
      "Z stat : -10.506753203888538\n",
      "P value : 1.0\n",
      "Lessthan or equal to 40% of students are receiving tutoring\n",
      "Tutored students % count is 30.142140468227424\n",
      "Tutored students % count is 69.85785953177258\n"
     ]
    }
   ],
   "source": [
    "#More than 40% of students are receiving tutoring. Is this true?\n",
    "#H₀: p ≤ 0.40\n",
    "#H₁: p > 0.40\n",
    "\n",
    "success = (df['Tutoring'] == 1).sum()\n",
    "other = (df['Tutoring'] == 0).sum()\n",
    "total = len(df)\n",
    "zstat, pval = proportions_ztest(success, total, value=0.40, alternative='larger')\n",
    "\n",
    "print(f\"Z stat : {zstat}\")\n",
    "print(f\"P value : {pval}\")\n",
    "\n",
    "if pval < 0.05:\n",
    "    print(\"More than 40% students are receiving tutoring\")\n",
    "else:\n",
    "    print(\"Less than or equal to 40% of students are receiving tutoring\")\n",
    "    \n",
    "print(f\"Tutored students % count is {success /total * 100}\")\n",
    "print(f\"Untutored students % count is {other / total * 100}\")\n"
   ]
  },
  {
   "cell_type": "code",
   "execution_count": 54,
   "id": "3bfa8574",
   "metadata": {},
   "outputs": [
    {
     "name": "stdout",
     "output_type": "stream",
     "text": [
      "Z stat : -11.73286606152908\n",
      "P value : 4.3239988114566006e-32\n",
      "less than 50% of students involved in extracurricular activities\n",
      "Extracurricular activities students % count is 38.336120401337794\n",
      "No Extracurricular activities students % count is 61.663879598662206\n"
     ]
    }
   ],
   "source": [
    "#Is less than 50% of students involved in extracurricular activities?\n",
    "#H₀: p ≥ 0.50\n",
    "#H₁: p < 0.50\n",
    "\n",
    "success = (df['Extracurricular'] == 1).sum()\n",
    "other = (df['Extracurricular'] == 0).sum()\n",
    "total = len(df)\n",
    "zstat, pval = proportions_ztest(success, total, value=0.50, alternative='smaller')\n",
    "\n",
    "print(f\"Z stat : {zstat}\")\n",
    "print(f\"P value : {pval}\")\n",
    "\n",
    "if pval < 0.05:\n",
    "    print(\"less than 50% of students participate in extracurricular activities\")\n",
    "else:\n",
    "    print(\"Greater than or equal to 50% of students are involved in extracurricular activities\")\n",
    "    \n",
    "print(f\"Extracurricular activities students % count is {success/total * 100}\")\n",
    "print(f\"No Extracurricular activities students % count is {other / total * 100}\")\n"
   ]
  },
  {
   "cell_type": "markdown",
   "id": "ac67b405",
   "metadata": {},
   "source": [
    "# Two-Sample Z-Proportion Test"
   ]
  },
  {
   "cell_type": "code",
   "execution_count": 60,
   "id": "1c4f3893",
   "metadata": {},
   "outputs": [
    {
     "name": "stdout",
     "output_type": "stream",
     "text": [
      "Z stat : -1.5453620107587478\n",
      "P value : 0.9388706380794596\n",
      "The proportion of females receiving tutoring is Lower than or equal to male students receiving tutoring\n",
      "Female students receiving tutoring % count is (29, 2)\n",
      "Male students receiving tutoring % count is (32, 2)\n"
     ]
    }
   ],
   "source": [
    "#Is the proportion of females receiving tutoring higher than that of males?\n",
    "#H₀: p₁ ≤ p₂\n",
    "#H₁: p₁ > p₂\n",
    "\n",
    "female = len(df[(df['Gender'] == 1) & (df['Tutoring'] == 1)])\n",
    "male = len(df[(df['Gender'] == 0) & (df['Tutoring'] == 1)])\n",
    "\n",
    "female_count = (df['Gender'] == 1).sum()\n",
    "male_count = (df['Gender'] == 0).sum()\n",
    "zstat, pval = proportions_ztest([female, male], [female_count, male_count], value=0, alternative='larger')\n",
    "\n",
    "print(f\"Z stat : {zstat}\")\n",
    "print(f\"P value : {pval}\")\n",
    "\n",
    "if pval < 0.05:\n",
    "    print(\"The proportion of females receiving tutoring is higher than that of males\")\n",
    "else:\n",
    "    print(\"The proportion of females receiving tutoring is Lower than or equal to male students receiving tutoring\")\n",
    "    \n",
    "print(f\"Female students receiving tutoring % count is {female/female_count * 100}\")\n",
    "print(f\"Male students receiving tutoring % count is {male/male_count * 100}\")\n"
   ]
  },
  {
   "cell_type": "code",
   "execution_count": 61,
   "id": "0d4b7f8d",
   "metadata": {},
   "outputs": [
    {
     "data": {
      "text/html": [
       "<div>\n",
       "<style scoped>\n",
       "    .dataframe tbody tr th:only-of-type {\n",
       "        vertical-align: middle;\n",
       "    }\n",
       "\n",
       "    .dataframe tbody tr th {\n",
       "        vertical-align: top;\n",
       "    }\n",
       "\n",
       "    .dataframe thead th {\n",
       "        text-align: right;\n",
       "    }\n",
       "</style>\n",
       "<table border=\"1\" class=\"dataframe\">\n",
       "  <thead>\n",
       "    <tr style=\"text-align: right;\">\n",
       "      <th></th>\n",
       "      <th>StudentID</th>\n",
       "      <th>Age</th>\n",
       "      <th>Gender</th>\n",
       "      <th>Ethnicity</th>\n",
       "      <th>ParentalEducation</th>\n",
       "      <th>StudyTimeWeekly</th>\n",
       "      <th>Absences</th>\n",
       "      <th>Tutoring</th>\n",
       "      <th>ParentalSupport</th>\n",
       "      <th>Extracurricular</th>\n",
       "      <th>Sports</th>\n",
       "      <th>Music</th>\n",
       "      <th>Volunteering</th>\n",
       "      <th>GPA</th>\n",
       "      <th>GradeClass</th>\n",
       "    </tr>\n",
       "  </thead>\n",
       "  <tbody>\n",
       "    <tr>\n",
       "      <th>0</th>\n",
       "      <td>1001</td>\n",
       "      <td>17</td>\n",
       "      <td>1</td>\n",
       "      <td>0</td>\n",
       "      <td>2</td>\n",
       "      <td>19.833723</td>\n",
       "      <td>7</td>\n",
       "      <td>1</td>\n",
       "      <td>2</td>\n",
       "      <td>0</td>\n",
       "      <td>0</td>\n",
       "      <td>1</td>\n",
       "      <td>0</td>\n",
       "      <td>2.929196</td>\n",
       "      <td>2.0</td>\n",
       "    </tr>\n",
       "    <tr>\n",
       "      <th>1</th>\n",
       "      <td>1002</td>\n",
       "      <td>18</td>\n",
       "      <td>0</td>\n",
       "      <td>0</td>\n",
       "      <td>1</td>\n",
       "      <td>15.408756</td>\n",
       "      <td>0</td>\n",
       "      <td>0</td>\n",
       "      <td>1</td>\n",
       "      <td>0</td>\n",
       "      <td>0</td>\n",
       "      <td>0</td>\n",
       "      <td>0</td>\n",
       "      <td>3.042915</td>\n",
       "      <td>1.0</td>\n",
       "    </tr>\n",
       "    <tr>\n",
       "      <th>2</th>\n",
       "      <td>1003</td>\n",
       "      <td>15</td>\n",
       "      <td>0</td>\n",
       "      <td>2</td>\n",
       "      <td>3</td>\n",
       "      <td>4.210570</td>\n",
       "      <td>26</td>\n",
       "      <td>0</td>\n",
       "      <td>2</td>\n",
       "      <td>0</td>\n",
       "      <td>0</td>\n",
       "      <td>0</td>\n",
       "      <td>0</td>\n",
       "      <td>0.112602</td>\n",
       "      <td>4.0</td>\n",
       "    </tr>\n",
       "    <tr>\n",
       "      <th>3</th>\n",
       "      <td>1004</td>\n",
       "      <td>17</td>\n",
       "      <td>1</td>\n",
       "      <td>0</td>\n",
       "      <td>3</td>\n",
       "      <td>10.028829</td>\n",
       "      <td>14</td>\n",
       "      <td>0</td>\n",
       "      <td>3</td>\n",
       "      <td>1</td>\n",
       "      <td>0</td>\n",
       "      <td>0</td>\n",
       "      <td>0</td>\n",
       "      <td>2.054218</td>\n",
       "      <td>3.0</td>\n",
       "    </tr>\n",
       "    <tr>\n",
       "      <th>4</th>\n",
       "      <td>1005</td>\n",
       "      <td>17</td>\n",
       "      <td>1</td>\n",
       "      <td>0</td>\n",
       "      <td>2</td>\n",
       "      <td>4.672495</td>\n",
       "      <td>17</td>\n",
       "      <td>1</td>\n",
       "      <td>3</td>\n",
       "      <td>0</td>\n",
       "      <td>0</td>\n",
       "      <td>0</td>\n",
       "      <td>0</td>\n",
       "      <td>1.288061</td>\n",
       "      <td>4.0</td>\n",
       "    </tr>\n",
       "  </tbody>\n",
       "</table>\n",
       "</div>"
      ],
      "text/plain": [
       "   StudentID  Age  Gender  Ethnicity  ParentalEducation  StudyTimeWeekly  \\\n",
       "0       1001   17       1          0                  2        19.833723   \n",
       "1       1002   18       0          0                  1        15.408756   \n",
       "2       1003   15       0          2                  3         4.210570   \n",
       "3       1004   17       1          0                  3        10.028829   \n",
       "4       1005   17       1          0                  2         4.672495   \n",
       "\n",
       "   Absences  Tutoring  ParentalSupport  Extracurricular  Sports  Music  \\\n",
       "0         7         1                2                0       0      1   \n",
       "1         0         0                1                0       0      0   \n",
       "2        26         0                2                0       0      0   \n",
       "3        14         0                3                1       0      0   \n",
       "4        17         1                3                0       0      0   \n",
       "\n",
       "   Volunteering       GPA  GradeClass  \n",
       "0             0  2.929196         2.0  \n",
       "1             0  3.042915         1.0  \n",
       "2             0  0.112602         4.0  \n",
       "3             0  2.054218         3.0  \n",
       "4             0  1.288061         4.0  "
      ]
     },
     "execution_count": 61,
     "metadata": {},
     "output_type": "execute_result"
    }
   ],
   "source": [
    "df.head()"
   ]
  },
  {
   "cell_type": "code",
   "execution_count": 68,
   "id": "200de25a",
   "metadata": {},
   "outputs": [
    {
     "name": "stdout",
     "output_type": "stream",
     "text": [
      "Z stat : 12.017965155470112\n",
      "P value : 2.859260696687429e-33\n",
      "The proportion of students involved in sports are higher than those volunteering\n",
      "Sports Students % count is 30.351170568561876\n",
      "Volunterring Students % count is 15.719063545150503\n"
     ]
    }
   ],
   "source": [
    "#Is the proportion of students involved in sports higher than those volunteering?\n",
    "#H₀: p₁ ≤ p₂\n",
    "#H₁: p₁ > p₂\n",
    "\n",
    "sports = len(df[df['Sports'] == 1])\n",
    "volunteering = len(df[df['Volunteering'] == 1])\n",
    "total = len(df)\n",
    "zstat, pval = proportions_ztest([sports, volunteering], [total, total], value=0, alternative='larger')\n",
    "\n",
    "print(f\"Z stat : {zstat}\")\n",
    "print(f\"P value : {pval}\")\n",
    "\n",
    "if pval < 0.05:\n",
    "    print(\"The proportion of students involved in sports are higher than those volunteering\")\n",
    "else:\n",
    "    print(\"The proportion of students involved in sports is less than or equal to students who are volunteering\")\n",
    "    \n",
    "print(f\"Sports Students % count is {sports/total * 100}\")\n",
    "print(f\"Volunterring Students % count is {volunteering/total * 100}\")\n"
   ]
  },
  {
   "cell_type": "code",
   "execution_count": 70,
   "id": "b7c8d99b",
   "metadata": {},
   "outputs": [
    {
     "name": "stdout",
     "output_type": "stream",
     "text": [
      "Z stat : 0.34496100215257164\n",
      "P value : 0.3650618444781315\n",
      "students with parents having a bachelor's degree or higher participate less or equally in extracurriculars than students with college eduction parents \n",
      "Students with High degree parents participating in extracurriculars % count is 7.94314381270903\n",
      "Students with Low degree parents participating in extracurriculars % count is 30.392976588628763\n"
     ]
    }
   ],
   "source": [
    "#Do students with parents having a bachelor's degree or higher participate more in extracurricular activities than those with\n",
    "#less educated parents?\n",
    "#H₀: p₁ ≤ p₂\n",
    "#H₁: p₁ > p₂\n",
    "high_group = df[df['ParentalEducation'] >= 3]\n",
    "low_group = df[df['ParentalEducation'] < 3]\n",
    "\n",
    "high_success = (high_group['Extracurricular'] == 1).sum()\n",
    "low_success = (low_group['Extracurricular'] == 1).sum()\n",
    "\n",
    "high_total = len(high_group)\n",
    "low_total = len(low_group)\n",
    "zstat, pval = proportions_ztest([high_success, low_success], [high_total, low_total], value=0, alternative='larger')\n",
    "\n",
    "print(f\"Z stat : {zstat}\")\n",
    "print(f\"P value : {pval}\")\n",
    "\n",
    "if pval < 0.05:\n",
    "    print(\"students with parents having a bachelor's degree or higher participate more in extracurricular\")\n",
    "else:\n",
    "    print(\"students with parents having a bachelor's degree or higher participate less or equally in extracurriculars than students with college eduction parents \")\n",
    "    \n",
    "print(f\"Students with High degree parents participating in extracurriculars % count is {highdegree/total * 100}\")\n",
    "print(f\"Students with Low degree parents participating in extracurriculars % count is {lowdegree/total * 100}\")\n"
   ]
  },
  {
   "cell_type": "code",
   "execution_count": null,
   "id": "1bf60502",
   "metadata": {},
   "outputs": [],
   "source": []
  }
 ],
 "metadata": {
  "kernelspec": {
   "display_name": "Python 3 (ipykernel)",
   "language": "python",
   "name": "python3"
  },
  "language_info": {
   "codemirror_mode": {
    "name": "ipython",
    "version": 3
   },
   "file_extension": ".py",
   "mimetype": "text/x-python",
   "name": "python",
   "nbconvert_exporter": "python",
   "pygments_lexer": "ipython3",
   "version": "3.11.5"
  }
 },
 "nbformat": 4,
 "nbformat_minor": 5
}
